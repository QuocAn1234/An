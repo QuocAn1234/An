{
  "nbformat": 4,
  "nbformat_minor": 0,
  "metadata": {
    "colab": {
      "name": "Robot3bac",
      "provenance": []
    },
    "kernelspec": {
      "name": "python3",
      "display_name": "Python 3"
    },
    "language_info": {
      "name": "python"
    }
  },
  "cells": [
    {
      "cell_type": "code",
      "execution_count": 2,
      "metadata": {
        "id": "gBO48r5JhzHr"
      },
      "outputs": [],
      "source": [
        "import keras\n",
        "import numpy as np\n",
        "import matplotlib.pyplot as plt\n",
        "from keras.layers import Dense, Activation, Dropout, BatchNormalization, LSTM\n",
        "from keras.models import Sequential\n",
        "from tensorflow.keras.utils import to_categorical\n",
        "from tensorflow.keras.optimizers import RMSprop\n",
        "from skimage import color\n",
        "from keras.callbacks import EarlyStopping\n",
        "\n",
        "import pandas as pd \n",
        "import seaborn as sns \n",
        "from sklearn.model_selection import train_test_split\n",
        "from keras import callbacks\n",
        "from sklearn.metrics import precision_score, recall_score, confusion_matrix, classification_report, accuracy_score, f1_score \n",
        "\n",
        "import csv\n",
        "import math as m\n",
        "l1 = 50\n",
        "l2 = 40\n",
        "l3 = 20\n"
      ]
    },
    {
      "cell_type": "code",
      "source": [
        "with open('Robot3b.csv','w') as file:\n",
        "  writer = csv.writer(file)\n",
        "  writer.writerow(['tt1','tt2','tt3','Px','Py','T'])\n",
        "\n",
        "  for tt1 in range(-150,151,1):\n",
        "    for tt2 in range(-120,121,1):\n",
        "      for tt3 in range(-90,91,1): \n",
        "        Px = l1*m.cos(tt1) + l2*m.cos(tt1+tt2)+ l3*m.cos(tt1+tt2+tt3)\n",
        "        Py = l1*m.sin(tt1) + l2*m.sin(tt1+tt2)+ l3*m.sin(tt1+tt2+tt3)\n",
        "        T = tt1+tt2+tt3\n",
        "        writer.writerow([tt1,tt2,tt3,Px,Py,T])"
      ],
      "metadata": {
        "id": "GduE7_8yh6in"
      },
      "execution_count": 3,
      "outputs": []
    },
    {
      "cell_type": "code",
      "source": [
        "data=pd.read_csv('Robot3b.csv')\n",
        "data\n",
        "\n",
        "x=data.drop(data.columns[:3],axis=1)\n",
        "y=data.drop(data.columns[3:],axis=1)\n",
        "x_train,x_test,y_train,y_test=train_test_split(x,y,test_size=0.25,random_state=10)\n"
      ],
      "metadata": {
        "id": "mLPijqSNh_vR"
      },
      "execution_count": 4,
      "outputs": []
    },
    {
      "cell_type": "code",
      "source": [
        "model=Sequential()\n",
        "model.add(Dense(512,activation='relu',input_shape=(3,)))\n",
        "model.add(Dense(500,activation='relu'))\n",
        "model.add(Dense(300,activation='relu'))\n",
        "model.add(Dense(100,activation='relu'))\n",
        "model.add(Dense(3,activation='softmax'))\n",
        "model.summary()"
      ],
      "metadata": {
        "colab": {
          "base_uri": "https://localhost:8080/"
        },
        "id": "bDjprM0BiHnY",
        "outputId": "a072336f-9f17-488d-c77d-36468e91d7a9"
      },
      "execution_count": 5,
      "outputs": [
        {
          "output_type": "stream",
          "name": "stdout",
          "text": [
            "Model: \"sequential_1\"\n",
            "_________________________________________________________________\n",
            " Layer (type)                Output Shape              Param #   \n",
            "=================================================================\n",
            " dense_5 (Dense)             (None, 512)               2048      \n",
            "                                                                 \n",
            " dense_6 (Dense)             (None, 500)               256500    \n",
            "                                                                 \n",
            " dense_7 (Dense)             (None, 300)               150300    \n",
            "                                                                 \n",
            " dense_8 (Dense)             (None, 100)               30100     \n",
            "                                                                 \n",
            " dense_9 (Dense)             (None, 3)                 303       \n",
            "                                                                 \n",
            "=================================================================\n",
            "Total params: 439,251\n",
            "Trainable params: 439,251\n",
            "Non-trainable params: 0\n",
            "_________________________________________________________________\n"
          ]
        }
      ]
    },
    {
      "cell_type": "code",
      "source": [
        "model.compile(loss='categorical_crossentropy',optimizer=RMSprop(),metrics=['accuracy'])\n",
        "history = model.fit(x_train,y_train,batch_size = 128,epochs=5,verbose=1,callbacks=[EarlyStopping(monitor='val_loss',patience=20)],validation_data = (x_test, y_test))\n",
        "\n",
        "score = model.evaluate(x_test, y_test,verbose=0)\n",
        "print('Sai so kiem tra la:', score[0])\n",
        "print('Do chinh xac kiem tra la:', score[1])\n"
      ],
      "metadata": {
        "colab": {
          "base_uri": "https://localhost:8080/"
        },
        "id": "tD3PRsb7iKfv",
        "outputId": "89835a79-4860-42a4-d2ab-6c654046efac"
      },
      "execution_count": 6,
      "outputs": [
        {
          "output_type": "stream",
          "name": "stdout",
          "text": [
            "Epoch 1/5\n",
            "76934/76934 [==============================] - 1402s 18ms/step - loss: -16561811707794554880.0000 - accuracy: 0.4568 - val_loss: -99950937397209858048.0000 - val_accuracy: 0.4567\n",
            "Epoch 2/5\n",
            "76934/76934 [==============================] - 1417s 18ms/step - loss: nan - accuracy: 0.4369 - val_loss: nan - val_accuracy: 0.3831\n",
            "Epoch 3/5\n",
            "76934/76934 [==============================] - 1398s 18ms/step - loss: nan - accuracy: 0.3827 - val_loss: nan - val_accuracy: 0.3831\n",
            "Epoch 4/5\n",
            "76934/76934 [==============================] - 1366s 18ms/step - loss: nan - accuracy: 0.3827 - val_loss: nan - val_accuracy: 0.3831\n",
            "Epoch 5/5\n",
            "76934/76934 [==============================] - 1331s 17ms/step - loss: nan - accuracy: 0.3827 - val_loss: nan - val_accuracy: 0.3831\n",
            "Sai so kiem tra la: nan\n",
            "Do chinh xac kiem tra la: 0.3830547630786896\n"
          ]
        }
      ]
    },
    {
      "cell_type": "code",
      "source": [
        "model.save('Robot3b.h5')\n",
        "from tensorflow.keras.models import load_model\n",
        "model = load_model('Robot3b.h5')"
      ],
      "metadata": {
        "id": "V-2OJ6EXiK8f"
      },
      "execution_count": 7,
      "outputs": []
    },
    {
      "cell_type": "code",
      "source": [
        "plt.plot(history.history['accuracy'])\n",
        "plt.plot(history.history['val_accuracy'])\n",
        "plt.title('Model accuracy')\n",
        "plt.ylabel('accuracy')\n",
        "plt.xlabel('Epochs')\n",
        "plt.legend(['train','Validation'])\n",
        "plt.show()"
      ],
      "metadata": {
        "colab": {
          "base_uri": "https://localhost:8080/",
          "height": 294
        },
        "id": "zOUTqh33iNLp",
        "outputId": "20f41d73-d323-45d7-a38d-f26895f9b9d7"
      },
      "execution_count": 8,
      "outputs": [
        {
          "output_type": "display_data",
          "data": {
            "text/plain": [
              "<Figure size 432x288 with 1 Axes>"
            ],
            "image/png": "[encoded data removed]"
          },
          "metadata": {
            "needs_background": "light"
          }
        }
      ]
    }
  ]
}