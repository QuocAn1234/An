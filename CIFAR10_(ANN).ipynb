{
  "cells": [
    {
      "cell_type": "code",
      "execution_count": null,
      "metadata": {
        "colab": {
          "base_uri": "https://localhost:8080/",
          "height": 124,
          "referenced_widgets": [
            "faa53b0a9f424d43a6f5ce171612afa8",
            "02813d21e61b487aae607c57d0d1e2bb",
            "5486fbedabf54d779a9f16d6d0b11dd5",
            "d6d5996e1ff043aebb2c37e3338aa75e",
            "c0f3b1e8ddc44d7d816c7cf2aac2240c",
            "2fa5a543e57c46b9aeb24dfb603ab98b",
            "034d93e76693488dab4af6aac2802011",
            "973467a615ce40bc99e412dc423e7f2b",
            "92af22ec5ced435bb50279fbfb16cb25",
            "e02b0d7993d94fe2bc15ad17c239e8fe",
            "f33cb16962744ea39950dc175b6fb0fe"
          ]
        },
        "id": "3BH64n2trTrX",
        "outputId": "cfb6decb-bc82-4b07-924b-cd87bc887067"
      },
      "outputs": [
        {
          "name": "stdout",
          "output_type": "stream",
          "text": [
            "Downloading https://www.cs.toronto.edu/~kriz/cifar-10-python.tar.gz to ../data_cifar/cifar-10-python.tar.gz\n"
          ]
        },
        {
          "data": {
            "application/vnd.jupyter.widget-view+json": {
              "model_id": "faa53b0a9f424d43a6f5ce171612afa8",
              "version_major": 2,
              "version_minor": 0
            },
            "text/plain": [
              "  0%|          | 0/170498071 [00:00<?, ?it/s]"
            ]
          },
          "metadata": {},
          "output_type": "display_data"
        },
        {
          "name": "stdout",
          "output_type": "stream",
          "text": [
            "Extracting ../data_cifar/cifar-10-python.tar.gz to ../data_cifar/\n",
            "Files already downloaded and verified\n"
          ]
        }
      ],
      "source": [
        "import torch\n",
        "import torch.nn as nn\n",
        "import torch.nn.functional as F \n",
        "\n",
        "from torchvision import datasets, transforms\n",
        "from torch.utils.data import DataLoader\n",
        "from sklearn.metrics import confusion_matrix\n",
        "\n",
        "import matplotlib.pyplot as plt\n",
        "import numpy as np\n",
        "transform = transforms.ToTensor()\n",
        "data_path = '../data_cifar/'\n",
        "cifar10_train = datasets.CIFAR10(data_path, train=True, download=True, transform=transform)\n",
        "cifar10_test = datasets.CIFAR10(data_path, train=False, download=True, transform=transform)"
      ]
    },
    {
      "cell_type": "code",
      "execution_count": null,
      "metadata": {
        "colab": {
          "base_uri": "https://localhost:8080/"
        },
        "id": "4jLaYSNbsr8R",
        "outputId": "69941b1b-e2bf-46a1-942d-2fcd5b1af6a5"
      },
      "outputs": [
        {
          "name": "stdout",
          "output_type": "stream",
          "text": [
            "Training:  50000\n",
            "Testing:  10000\n"
          ]
        }
      ],
      "source": [
        "print(\"Training: \", len(cifar10_train))\n",
        "print(\"Testing: \", len(cifar10_test))"
      ]
    },
    {
      "cell_type": "code",
      "execution_count": null,
      "metadata": {
        "colab": {
          "base_uri": "https://localhost:8080/"
        },
        "id": "-eOBPXsxvBle",
        "outputId": "75e6aac3-8d53-4e7f-84e7-dc8fcd9191a8"
      },
      "outputs": [
        {
          "data": {
            "text/plain": [
              "torch.Tensor"
            ]
          },
          "execution_count": 18,
          "metadata": {},
          "output_type": "execute_result"
        }
      ],
      "source": [
        "image, label = cifar10_train[0]\n",
        "type(image)"
      ]
    },
    {
      "cell_type": "code",
      "execution_count": null,
      "metadata": {
        "colab": {
          "base_uri": "https://localhost:8080/"
        },
        "id": "vknsrtM1vQ8i",
        "outputId": "f14a38c4-1930-4001-9e11-54519dccb738"
      },
      "outputs": [
        {
          "name": "stdout",
          "output_type": "stream",
          "text": [
            "['airplane', 'automobile', 'bird', 'cat', 'deer', 'dog', 'frog', 'horse', 'ship', 'truck']\n",
            "6\n",
            "frog\n"
          ]
        }
      ],
      "source": [
        "classes = cifar10_train.classes\n",
        "print (classes)\n",
        "print(label)\n",
        "print(classes[label])"
      ]
    },
    {
      "cell_type": "code",
      "execution_count": null,
      "metadata": {
        "id": "FTnLvFdFvV_a"
      },
      "outputs": [],
      "source": [
        "torch.manual_seed(80)\n",
        "train_loader = DataLoader(cifar10_train, batch_size=100, shuffle=True)\n",
        "test_loader = DataLoader(cifar10_test, batch_size=500, shuffle=False)\n"
      ]
    },
    {
      "cell_type": "code",
      "execution_count": null,
      "metadata": {
        "id": "hacOP4Pivguv"
      },
      "outputs": [],
      "source": [
        "class MultilayerPerceptron(nn.Module):\n",
        "\n",
        "    def __init__(self, input_size=32*32*3, output_size=10):\n",
        "        super().__init__()\n",
        "        self.fc1 = nn.Linear(input_size, 120)\n",
        "        self.fc2 = nn.Linear(120, 84)\n",
        "        self.fc3 = nn.Linear(84, output_size)\n",
        "        #self.dropout = nn.Dropout(p=0.5)\n",
        "\n",
        "    def forward(self, X):\n",
        "        X = F.relu(self.fc1(X))\n",
        "        X = F.relu(self.fc2(X))\n",
        "        X = self.fc3(X)\n",
        "\n",
        "        return F.log_softmax(X, dim=1)"
      ]
    },
    {
      "cell_type": "code",
      "execution_count": null,
      "metadata": {
        "colab": {
          "base_uri": "https://localhost:8080/"
        },
        "id": "-ua-pcURwJzM",
        "outputId": "aca1e51d-dda4-4e67-92be-dc48a2d1ea12"
      },
      "outputs": [
        {
          "data": {
            "text/plain": [
              "MultilayerPerceptron(\n",
              "  (fc1): Linear(in_features=3072, out_features=120, bias=True)\n",
              "  (fc2): Linear(in_features=120, out_features=84, bias=True)\n",
              "  (fc3): Linear(in_features=84, out_features=10, bias=True)\n",
              ")"
            ]
          },
          "execution_count": 55,
          "metadata": {},
          "output_type": "execute_result"
        }
      ],
      "source": [
        "torch.manual_seed(80)\n",
        "model = MultilayerPerceptron()\n",
        "model"
      ]
    },
    {
      "cell_type": "code",
      "execution_count": null,
      "metadata": {
        "id": "LOcbjBQSwNY3"
      },
      "outputs": [],
      "source": [
        "criterion = nn.CrossEntropyLoss()\n",
        "optimizer = torch.optim.SGD(model.parameters(), lr=0.01)"
      ]
    },
    {
      "cell_type": "code",
      "execution_count": null,
      "metadata": {
        "id": "kDJH7AZdwgDH"
      },
      "outputs": [],
      "source": [
        "for images, labels in train_loader:\n",
        "  break"
      ]
    },
    {
      "cell_type": "code",
      "execution_count": null,
      "metadata": {
        "id": "dPNOBUMTwnSl"
      },
      "outputs": [],
      "source": [
        "import time\n",
        "start_time = time.time()\n",
        "epochs = 10\n",
        "\n",
        "train_losses = []\n",
        "test_losses = []\n",
        "train_correct = []\n",
        "test_correct  = []\n",
        "for i in range(epochs):\n",
        "   \n",
        "    trn_corr = 0\n",
        "    tst_corr = 0\n",
        "for b_iter, (X_train, y_train) in enumerate(train_loader):\n",
        "      b_iter +=1\n",
        "\n",
        "      y_pred = model(X_train.view(100, -1))\n",
        "      loss = criterion(y_pred, y_train)\n",
        "      \n",
        "      predicted = torch.max(y_pred.data, 1)[1]\n",
        "      batch_corr = (predicted == y_train).sum()\n",
        "      trn_corr += batch_corr\n",
        "      \n",
        "      \n",
        "      optimizer.zero_grad()\n",
        "      loss.backward()\n",
        "      optimizer.step()"
      ]
    },
    {
      "cell_type": "code",
      "execution_count": null,
      "metadata": {
        "colab": {
          "base_uri": "https://localhost:8080/"
        },
        "id": "AmG5SjzYw4Uh",
        "outputId": "a6e9d20e-f557-4a7a-b309-83697befaf06"
      },
      "outputs": [
        {
          "name": "stdout",
          "output_type": "stream",
          "text": [
            "epoch: 9 batch 500 loss:1.8129768371582031 accuracy:30.166 \n"
          ]
        }
      ],
      "source": [
        "if b_iter % 100 == 0:\n",
        "        \n",
        "        accuracy = trn_corr.item()*100 / (100*b_iter)\n",
        "        print( f'epoch: {i} batch {b_iter} loss:{loss.item()} accuracy:{accuracy} ')"
      ]
    },
    {
      "cell_type": "code",
      "execution_count": null,
      "metadata": {
        "id": "sFINDCraw6vE"
      },
      "outputs": [],
      "source": [
        "train_losses.append(loss)\n",
        "train_correct.append(trn_corr)\n"
      ]
    },
    {
      "cell_type": "code",
      "execution_count": null,
      "metadata": {
        "id": "2kgK_7Zow83n"
      },
      "outputs": [],
      "source": [
        "with torch.no_grad():\n",
        "      \n",
        "      for b_iter, (X_test, y_test) in enumerate(test_loader):\n",
        "        \n",
        "        y_val = model(X_test.view(500, -1))\n",
        "        \n",
        "        predicted = torch.max(y_val.data, 1)[1]\n",
        "        tst_corr += (predicted == y_test).sum()\n",
        "     \n",
        "loss = criterion(y_val,y_test)\n",
        "test_losses.append(loss)\n",
        "test_correct.append(tst_corr)"
      ]
    },
    {
      "cell_type": "code",
      "execution_count": null,
      "metadata": {
        "colab": {
          "base_uri": "https://localhost:8080/"
        },
        "id": "F5V8RAOVw_U8",
        "outputId": "57b7a52a-0d54-450a-c32f-2a4656b06712"
      },
      "outputs": [
        {
          "name": "stdout",
          "output_type": "stream",
          "text": [
            " Duration: 1.3561207175254821 mins\n"
          ]
        }
      ],
      "source": [
        "    total_time = time.time() - start_time\n",
        "    print( f' Duration: {total_time/60} mins')"
      ]
    },
    {
      "cell_type": "code",
      "execution_count": null,
      "metadata": {
        "colab": {
          "background_save": true,
          "base_uri": "https://localhost:8080/"
        },
        "id": "SH3JQOG5xMMk",
        "outputId": "4ee8c258-0748-4835-ca7a-d7992fe10524"
      },
      "outputs": [
        {
          "name": "stdout",
          "output_type": "stream",
          "text": [
            "epoch: 0 batch 100 loss:2.2795045375823975 accuracy:14.53 \n",
            "epoch: 0 batch 200 loss:2.2311697006225586 accuracy:15.815 \n",
            "epoch: 0 batch 300 loss:2.166266441345215 accuracy:17.386666666666667 \n",
            "epoch: 0 batch 400 loss:2.1228456497192383 accuracy:19.4475 \n",
            "epoch: 0 batch 500 loss:2.1755008697509766 accuracy:20.652 \n",
            "epoch: 1 batch 100 loss:1.9860860109329224 accuracy:27.7 \n",
            "epoch: 1 batch 200 loss:2.0195648670196533 accuracy:28.615 \n",
            "epoch: 1 batch 300 loss:1.9050506353378296 accuracy:29.44 \n",
            "epoch: 1 batch 400 loss:2.0092906951904297 accuracy:29.725 \n",
            "epoch: 1 batch 500 loss:2.0692601203918457 accuracy:30.122 \n",
            "epoch: 2 batch 100 loss:1.8944331407546997 accuracy:31.68 \n",
            "epoch: 2 batch 200 loss:1.8663487434387207 accuracy:32.455 \n",
            "epoch: 2 batch 300 loss:1.8614457845687866 accuracy:32.64 \n",
            "epoch: 2 batch 400 loss:1.779637336730957 accuracy:32.675 \n",
            "epoch: 2 batch 500 loss:1.9161075353622437 accuracy:32.93 \n",
            "epoch: 3 batch 100 loss:1.8005683422088623 accuracy:34.85 \n",
            "epoch: 3 batch 200 loss:2.0042383670806885 accuracy:34.55 \n",
            "epoch: 3 batch 300 loss:1.8690301179885864 accuracy:34.95666666666666 \n",
            "epoch: 3 batch 400 loss:1.9892685413360596 accuracy:35.0175 \n",
            "epoch: 3 batch 500 loss:1.9535125494003296 accuracy:35.096 \n",
            "epoch: 4 batch 100 loss:1.764022707939148 accuracy:36.91 \n",
            "epoch: 4 batch 200 loss:1.7087295055389404 accuracy:36.32 \n",
            "epoch: 4 batch 300 loss:1.9403473138809204 accuracy:36.18333333333333 \n",
            "epoch: 4 batch 400 loss:1.7785786390304565 accuracy:36.32 \n",
            "epoch: 4 batch 500 loss:1.7840309143066406 accuracy:36.516 \n",
            "epoch: 5 batch 100 loss:1.7317793369293213 accuracy:37.86 \n",
            "epoch: 5 batch 200 loss:1.7489873170852661 accuracy:37.54 \n",
            "epoch: 5 batch 300 loss:1.649708867073059 accuracy:37.63333333333333 \n",
            "epoch: 5 batch 400 loss:1.7292460203170776 accuracy:37.75 \n",
            "epoch: 5 batch 500 loss:1.7475814819335938 accuracy:37.854 \n",
            "epoch: 6 batch 100 loss:1.578122854232788 accuracy:38.63 \n",
            "epoch: 6 batch 200 loss:1.5851516723632812 accuracy:38.92 \n",
            "epoch: 6 batch 300 loss:1.7417571544647217 accuracy:38.88 \n",
            "epoch: 6 batch 400 loss:1.6217942237854004 accuracy:39.0125 \n",
            "epoch: 6 batch 500 loss:1.6495709419250488 accuracy:39.18 \n",
            "epoch: 7 batch 100 loss:1.624407172203064 accuracy:39.63 \n",
            "epoch: 7 batch 200 loss:1.6862640380859375 accuracy:39.72 \n",
            "epoch: 7 batch 300 loss:1.5744520425796509 accuracy:39.99 \n",
            "epoch: 7 batch 400 loss:1.654422640800476 accuracy:40.245 \n",
            "epoch: 7 batch 500 loss:1.6162495613098145 accuracy:40.404 \n",
            "epoch: 8 batch 100 loss:1.657090187072754 accuracy:41.05 \n",
            "epoch: 8 batch 200 loss:1.605659008026123 accuracy:40.835 \n",
            "epoch: 8 batch 300 loss:1.629918098449707 accuracy:40.92333333333333 \n",
            "epoch: 8 batch 400 loss:1.5164636373519897 accuracy:40.905 \n",
            "epoch: 8 batch 500 loss:1.5764540433883667 accuracy:41.034 \n",
            "epoch: 9 batch 100 loss:1.8002187013626099 accuracy:41.33 \n",
            "epoch: 9 batch 200 loss:1.615349531173706 accuracy:41.71 \n",
            "epoch: 9 batch 300 loss:1.6227542161941528 accuracy:41.84 \n",
            "epoch: 9 batch 400 loss:1.6140154600143433 accuracy:41.9825 \n",
            "epoch: 9 batch 500 loss:1.4699064493179321 accuracy:42.132 \n",
            " Duration: 1.8609374006589254 mins\n"
          ]
        }
      ],
      "source": [
        "import time\n",
        "start_time = time.time()\n",
        "\n",
        "epochs = 10\n",
        "\n",
        "train_losses = []\n",
        "test_losses = []\n",
        "train_correct = []\n",
        "test_correct  = []\n",
        "\n",
        "for i in range(epochs):\n",
        "   \n",
        "    trn_corr = 0\n",
        "    tst_corr = 0\n",
        "    batch_corr = 0\n",
        "    \n",
        "\n",
        "    for b_iter, (X_train, y_train) in enumerate(train_loader):\n",
        "      b_iter +=1\n",
        "\n",
        "      y_pred = model(X_train.view(100, -1))\n",
        "      loss = criterion(y_pred, y_train)\n",
        "      \n",
        "      predicted = torch.max(y_pred.data, 1)[1]\n",
        "      batch_corr = (predicted == y_train).sum()\n",
        "      trn_corr += batch_corr\n",
        "      \n",
        "      \n",
        "      optimizer.zero_grad()\n",
        "      loss.backward()\n",
        "      optimizer.step()\n",
        "\n",
        "      if b_iter % 100 == 0:\n",
        "        \n",
        "        accuracy = trn_corr.item()*100 / (100*b_iter)\n",
        "        print( f'epoch: {i} batch {b_iter} loss:{loss.item()} accuracy:{accuracy} ')\n",
        "    \n",
        "    train_losses.append(loss)\n",
        "    train_correct.append(trn_corr)\n",
        "\n",
        "    with torch.no_grad():\n",
        "      \n",
        "      for b_iter, (X_test, y_test) in enumerate(test_loader):\n",
        "        \n",
        "        y_val = model(X_test.view(500, -1))\n",
        "        \n",
        "        predicted = torch.max(y_val.data, 1)[1]\n",
        "        tst_corr += (predicted == y_test).sum()\n",
        "     \n",
        "    loss = criterion(y_val,y_test)\n",
        "    test_losses.append(loss)\n",
        "    test_correct.append(tst_corr)\n",
        "\n",
        "total_time = time.time() - start_time\n",
        "print( f' Duration: {total_time/60} mins')"
      ]
    }
  ],
  "metadata": {
    "colab": {
      "name": "CIFAR10 (ANN)",
      "provenance": []
    },
    "kernelspec": {
      "display_name": "Python 3",
      "name": "python3"
    },
    "language_info": {
      "name": "python"
    },
    "widgets": {
      "application/vnd.jupyter.widget-state+json": {
        "02813d21e61b487aae607c57d0d1e2bb": {
          "model_module": "@jupyter-widgets/controls",
          "model_module_version": "1.5.0",
          "model_name": "HTMLModel",
          "state": {
            "_dom_classes": [],
            "_model_module": "@jupyter-widgets/controls",
            "_model_module_version": "1.5.0",
            "_model_name": "HTMLModel",
            "_view_count": null,
            "_view_module": "@jupyter-widgets/controls",
            "_view_module_version": "1.5.0",
            "_view_name": "HTMLView",
            "description": "",
            "description_tooltip": null,
            "layout": "IPY_MODEL_2fa5a543e57c46b9aeb24dfb603ab98b",
            "placeholder": "​",
            "style": "IPY_MODEL_034d93e76693488dab4af6aac2802011",
            "value": ""
          }
        },
        "034d93e76693488dab4af6aac2802011": {
          "model_module": "@jupyter-widgets/controls",
          "model_module_version": "1.5.0",
          "model_name": "DescriptionStyleModel",
          "state": {
            "_model_module": "@jupyter-widgets/controls",
            "_model_module_version": "1.5.0",
            "_model_name": "DescriptionStyleModel",
            "_view_count": null,
            "_view_module": "@jupyter-widgets/base",
            "_view_module_version": "1.2.0",
            "_view_name": "StyleView",
            "description_width": ""
          }
        },
        "2fa5a543e57c46b9aeb24dfb603ab98b": {
          "model_module": "@jupyter-widgets/base",
          "model_module_version": "1.2.0",
          "model_name": "LayoutModel",
          "state": {
            "_model_module": "@jupyter-widgets/base",
            "_model_module_version": "1.2.0",
            "_model_name": "LayoutModel",
            "_view_count": null,
            "_view_module": "@jupyter-widgets/base",
            "_view_module_version": "1.2.0",
            "_view_name": "LayoutView",
            "align_content": null,
            "align_items": null,
            "align_self": null,
            "border": null,
            "bottom": null,
            "display": null,
            "flex": null,
            "flex_flow": null,
            "grid_area": null,
            "grid_auto_columns": null,
            "grid_auto_flow": null,
            "grid_auto_rows": null,
            "grid_column": null,
            "grid_gap": null,
            "grid_row": null,
            "grid_template_areas": null,
            "grid_template_columns": null,
            "grid_template_rows": null,
            "height": null,
            "justify_content": null,
            "justify_items": null,
            "left": null,
            "margin": null,
            "max_height": null,
            "max_width": null,
            "min_height": null,
            "min_width": null,
            "object_fit": null,
            "object_position": null,
            "order": null,
            "overflow": null,
            "overflow_x": null,
            "overflow_y": null,
            "padding": null,
            "right": null,
            "top": null,
            "visibility": null,
            "width": null
          }
        },
        "5486fbedabf54d779a9f16d6d0b11dd5": {
          "model_module": "@jupyter-widgets/controls",
          "model_module_version": "1.5.0",
          "model_name": "FloatProgressModel",
          "state": {
            "_dom_classes": [],
            "_model_module": "@jupyter-widgets/controls",
            "_model_module_version": "1.5.0",
            "_model_name": "FloatProgressModel",
            "_view_count": null,
            "_view_module": "@jupyter-widgets/controls",
            "_view_module_version": "1.5.0",
            "_view_name": "ProgressView",
            "bar_style": "success",
            "description": "",
            "description_tooltip": null,
            "layout": "IPY_MODEL_973467a615ce40bc99e412dc423e7f2b",
            "max": 170498071,
            "min": 0,
            "orientation": "horizontal",
            "style": "IPY_MODEL_92af22ec5ced435bb50279fbfb16cb25",
            "value": 170498071
          }
        },
        "92af22ec5ced435bb50279fbfb16cb25": {
          "model_module": "@jupyter-widgets/controls",
          "model_module_version": "1.5.0",
          "model_name": "ProgressStyleModel",
          "state": {
            "_model_module": "@jupyter-widgets/controls",
            "_model_module_version": "1.5.0",
            "_model_name": "ProgressStyleModel",
            "_view_count": null,
            "_view_module": "@jupyter-widgets/base",
            "_view_module_version": "1.2.0",
            "_view_name": "StyleView",
            "bar_color": null,
            "description_width": ""
          }
        },
        "973467a615ce40bc99e412dc423e7f2b": {
          "model_module": "@jupyter-widgets/base",
          "model_module_version": "1.2.0",
          "model_name": "LayoutModel",
          "state": {
            "_model_module": "@jupyter-widgets/base",
            "_model_module_version": "1.2.0",
            "_model_name": "LayoutModel",
            "_view_count": null,
            "_view_module": "@jupyter-widgets/base",
            "_view_module_version": "1.2.0",
            "_view_name": "LayoutView",
            "align_content": null,
            "align_items": null,
            "align_self": null,
            "border": null,
            "bottom": null,
            "display": null,
            "flex": null,
            "flex_flow": null,
            "grid_area": null,
            "grid_auto_columns": null,
            "grid_auto_flow": null,
            "grid_auto_rows": null,
            "grid_column": null,
            "grid_gap": null,
            "grid_row": null,
            "grid_template_areas": null,
            "grid_template_columns": null,
            "grid_template_rows": null,
            "height": null,
            "justify_content": null,
            "justify_items": null,
            "left": null,
            "margin": null,
            "max_height": null,
            "max_width": null,
            "min_height": null,
            "min_width": null,
            "object_fit": null,
            "object_position": null,
            "order": null,
            "overflow": null,
            "overflow_x": null,
            "overflow_y": null,
            "padding": null,
            "right": null,
            "top": null,
            "visibility": null,
            "width": null
          }
        },
        "c0f3b1e8ddc44d7d816c7cf2aac2240c": {
          "model_module": "@jupyter-widgets/base",
          "model_module_version": "1.2.0",
          "model_name": "LayoutModel",
          "state": {
            "_model_module": "@jupyter-widgets/base",
            "_model_module_version": "1.2.0",
            "_model_name": "LayoutModel",
            "_view_count": null,
            "_view_module": "@jupyter-widgets/base",
            "_view_module_version": "1.2.0",
            "_view_name": "LayoutView",
            "align_content": null,
            "align_items": null,
            "align_self": null,
            "border": null,
            "bottom": null,
            "display": null,
            "flex": null,
            "flex_flow": null,
            "grid_area": null,
            "grid_auto_columns": null,
            "grid_auto_flow": null,
            "grid_auto_rows": null,
            "grid_column": null,
            "grid_gap": null,
            "grid_row": null,
            "grid_template_areas": null,
            "grid_template_columns": null,
            "grid_template_rows": null,
            "height": null,
            "justify_content": null,
            "justify_items": null,
            "left": null,
            "margin": null,
            "max_height": null,
            "max_width": null,
            "min_height": null,
            "min_width": null,
            "object_fit": null,
            "object_position": null,
            "order": null,
            "overflow": null,
            "overflow_x": null,
            "overflow_y": null,
            "padding": null,
            "right": null,
            "top": null,
            "visibility": null,
            "width": null
          }
        },
        "d6d5996e1ff043aebb2c37e3338aa75e": {
          "model_module": "@jupyter-widgets/controls",
          "model_module_version": "1.5.0",
          "model_name": "HTMLModel",
          "state": {
            "_dom_classes": [],
            "_model_module": "@jupyter-widgets/controls",
            "_model_module_version": "1.5.0",
            "_model_name": "HTMLModel",
            "_view_count": null,
            "_view_module": "@jupyter-widgets/controls",
            "_view_module_version": "1.5.0",
            "_view_name": "HTMLView",
            "description": "",
            "description_tooltip": null,
            "layout": "IPY_MODEL_e02b0d7993d94fe2bc15ad17c239e8fe",
            "placeholder": "​",
            "style": "IPY_MODEL_f33cb16962744ea39950dc175b6fb0fe",
            "value": " 170499072/? [00:11&lt;00:00, 16598695.61it/s]"
          }
        },
        "e02b0d7993d94fe2bc15ad17c239e8fe": {
          "model_module": "@jupyter-widgets/base",
          "model_module_version": "1.2.0",
          "model_name": "LayoutModel",
          "state": {
            "_model_module": "@jupyter-widgets/base",
            "_model_module_version": "1.2.0",
            "_model_name": "LayoutModel",
            "_view_count": null,
            "_view_module": "@jupyter-widgets/base",
            "_view_module_version": "1.2.0",
            "_view_name": "LayoutView",
            "align_content": null,
            "align_items": null,
            "align_self": null,
            "border": null,
            "bottom": null,
            "display": null,
            "flex": null,
            "flex_flow": null,
            "grid_area": null,
            "grid_auto_columns": null,
            "grid_auto_flow": null,
            "grid_auto_rows": null,
            "grid_column": null,
            "grid_gap": null,
            "grid_row": null,
            "grid_template_areas": null,
            "grid_template_columns": null,
            "grid_template_rows": null,
            "height": null,
            "justify_content": null,
            "justify_items": null,
            "left": null,
            "margin": null,
            "max_height": null,
            "max_width": null,
            "min_height": null,
            "min_width": null,
            "object_fit": null,
            "object_position": null,
            "order": null,
            "overflow": null,
            "overflow_x": null,
            "overflow_y": null,
            "padding": null,
            "right": null,
            "top": null,
            "visibility": null,
            "width": null
          }
        },
        "f33cb16962744ea39950dc175b6fb0fe": {
          "model_module": "@jupyter-widgets/controls",
          "model_module_version": "1.5.0",
          "model_name": "DescriptionStyleModel",
          "state": {
            "_model_module": "@jupyter-widgets/controls",
            "_model_module_version": "1.5.0",
            "_model_name": "DescriptionStyleModel",
            "_view_count": null,
            "_view_module": "@jupyter-widgets/base",
            "_view_module_version": "1.2.0",
            "_view_name": "StyleView",
            "description_width": ""
          }
        },
        "faa53b0a9f424d43a6f5ce171612afa8": {
          "model_module": "@jupyter-widgets/controls",
          "model_module_version": "1.5.0",
          "model_name": "HBoxModel",
          "state": {
            "_dom_classes": [],
            "_model_module": "@jupyter-widgets/controls",
            "_model_module_version": "1.5.0",
            "_model_name": "HBoxModel",
            "_view_count": null,
            "_view_module": "@jupyter-widgets/controls",
            "_view_module_version": "1.5.0",
            "_view_name": "HBoxView",
            "box_style": "",
            "children": [
              "IPY_MODEL_02813d21e61b487aae607c57d0d1e2bb",
              "IPY_MODEL_5486fbedabf54d779a9f16d6d0b11dd5",
              "IPY_MODEL_d6d5996e1ff043aebb2c37e3338aa75e"
            ],
            "layout": "IPY_MODEL_c0f3b1e8ddc44d7d816c7cf2aac2240c"
          }
        }
      }
    }
  },
  "nbformat": 4,
  "nbformat_minor": 0
}