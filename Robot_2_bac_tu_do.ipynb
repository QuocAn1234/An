{
  "nbformat": 4,
  "nbformat_minor": 0,
  "metadata": {
    "colab": {
      "name": "Robot2.ipynb",
      "provenance": [],
      "collapsed_sections": []
    },
    "kernelspec": {
      "name": "python3",
      "display_name": "Python 3"
    },
    "language_info": {
      "name": "python"
    }
  },
  "cells": [
    {
      "cell_type": "code",
      "execution_count": 1,
      "metadata": {
        "id": "FrmTrEbbEDYD"
      },
      "outputs": [],
      "source": [
        "#Lê Quốc An19146142\n",
        "import numpy as np\n",
        "import pandas as pd \n",
        "import seaborn as sns \n",
        "import matplotlib.pyplot as plt \n",
        "from sklearn.preprocessing import StandardScaler \n",
        "from sklearn.model_selection import train_test_split\n",
        "from keras.layers import Dense, Activation, Dropout, BatchNormalization, LSTM\n",
        "from keras.models import Sequential\n",
        "from tensorflow.keras.utils import to_categorical\n",
        "from keras import callbacks\n",
        "from sklearn.metrics import precision_score, recall_score, confusion_matrix, classification_report, accuracy_score, f1_score "
      ]
    },
    {
      "cell_type": "code",
      "source": [
        "import csv\n",
        "import math as m\n",
        "l1 = 50\n",
        "l2 = 40\n",
        "with open('robot2.csv','w') as file:\n",
        "  writer = csv.writer(file)\n",
        "  writer.writerow(['tt1','tt2','Px','Py'])\n",
        "\n",
        "  for tt1 in range(-180,181,1):\n",
        "    for tt2 in range(-180,181,1):\n",
        "      #tt1 = (tt1*m.pi)/180\n",
        "      #tt2 = (tt2*m.pi)/180\n",
        "      Px = l1*m.cos(tt1) + l2*m.cos(tt1+tt2)\n",
        "      Py = l1*m.sin(tt1) + l2*m.sin(tt1+tt2)\n",
        "      writer.writerow([tt1,tt2,Px,Py])"
      ],
      "metadata": {
        "id": "Dr9P4g_KEWfu"
      },
      "execution_count": 2,
      "outputs": []
    },
    {
      "cell_type": "code",
      "source": [
        "data=pd.read_csv('robot2.csv')\n",
        "data"
      ],
      "metadata": {
        "colab": {
          "base_uri": "https://localhost:8080/",
          "height": 424
        },
        "id": "mYsyB76fEg-W",
        "outputId": "eb9fb6f4-ae05-4579-b0c1-9f307f079efb"
      },
      "execution_count": 3,
      "outputs": [
        {
          "output_type": "execute_result",
          "data": {
            "text/plain": [
              "        tt1  tt2         Px         Py\n",
              "0      -180 -180 -41.270647   1.701003\n",
              "1      -180 -179  -3.778171   9.784744\n",
              "2      -180 -178   9.676867  45.701238\n",
              "3      -180 -177 -13.276034  76.429027\n",
              "4      -180 -176 -51.534081  73.717123\n",
              "...     ...  ...        ...        ...\n",
              "130316  180  176 -51.534081 -73.717123\n",
              "130317  180  177 -13.276034 -76.429027\n",
              "130318  180  178   9.676867 -45.701238\n",
              "130319  180  179  -3.778171  -9.784744\n",
              "130320  180  180 -41.270647  -1.701003\n",
              "\n",
              "[130321 rows x 4 columns]"
            ],
            "text/html": [
              "\n",
              "  <div id=\"df-4d11a7d3-3a67-4b1a-ab25-d92a905fabbf\">\n",
              "    <div class=\"colab-df-container\">\n",
              "      <div>\n",
              "<style scoped>\n",
              "    .dataframe tbody tr th:only-of-type {\n",
              "        vertical-align: middle;\n",
              "    }\n",
              "\n",
              "    .dataframe tbody tr th {\n",
              "        vertical-align: top;\n",
              "    }\n",
              "\n",
              "    .dataframe thead th {\n",
              "        text-align: right;\n",
              "    }\n",
              "</style>\n",
              "<table border=\"1\" class=\"dataframe\">\n",
              "  <thead>\n",
              "    <tr style=\"text-align: right;\">\n",
              "      <th></th>\n",
              "      <th>tt1</th>\n",
              "      <th>tt2</th>\n",
              "      <th>Px</th>\n",
              "      <th>Py</th>\n",
              "    </tr>\n",
              "  </thead>\n",
              "  <tbody>\n",
              "    <tr>\n",
              "      <th>0</th>\n",
              "      <td>-180</td>\n",
              "      <td>-180</td>\n",
              "      <td>-41.270647</td>\n",
              "      <td>1.701003</td>\n",
              "    </tr>\n",
              "    <tr>\n",
              "      <th>1</th>\n",
              "      <td>-180</td>\n",
              "      <td>-179</td>\n",
              "      <td>-3.778171</td>\n",
              "      <td>9.784744</td>\n",
              "    </tr>\n",
              "    <tr>\n",
              "      <th>2</th>\n",
              "      <td>-180</td>\n",
              "      <td>-178</td>\n",
              "      <td>9.676867</td>\n",
              "      <td>45.701238</td>\n",
              "    </tr>\n",
              "    <tr>\n",
              "      <th>3</th>\n",
              "      <td>-180</td>\n",
              "      <td>-177</td>\n",
              "      <td>-13.276034</td>\n",
              "      <td>76.429027</td>\n",
              "    </tr>\n",
              "    <tr>\n",
              "      <th>4</th>\n",
              "      <td>-180</td>\n",
              "      <td>-176</td>\n",
              "      <td>-51.534081</td>\n",
              "      <td>73.717123</td>\n",
              "    </tr>\n",
              "    <tr>\n",
              "      <th>...</th>\n",
              "      <td>...</td>\n",
              "      <td>...</td>\n",
              "      <td>...</td>\n",
              "      <td>...</td>\n",
              "    </tr>\n",
              "    <tr>\n",
              "      <th>130316</th>\n",
              "      <td>180</td>\n",
              "      <td>176</td>\n",
              "      <td>-51.534081</td>\n",
              "      <td>-73.717123</td>\n",
              "    </tr>\n",
              "    <tr>\n",
              "      <th>130317</th>\n",
              "      <td>180</td>\n",
              "      <td>177</td>\n",
              "      <td>-13.276034</td>\n",
              "      <td>-76.429027</td>\n",
              "    </tr>\n",
              "    <tr>\n",
              "      <th>130318</th>\n",
              "      <td>180</td>\n",
              "      <td>178</td>\n",
              "      <td>9.676867</td>\n",
              "      <td>-45.701238</td>\n",
              "    </tr>\n",
              "    <tr>\n",
              "      <th>130319</th>\n",
              "      <td>180</td>\n",
              "      <td>179</td>\n",
              "      <td>-3.778171</td>\n",
              "      <td>-9.784744</td>\n",
              "    </tr>\n",
              "    <tr>\n",
              "      <th>130320</th>\n",
              "      <td>180</td>\n",
              "      <td>180</td>\n",
              "      <td>-41.270647</td>\n",
              "      <td>-1.701003</td>\n",
              "    </tr>\n",
              "  </tbody>\n",
              "</table>\n",
              "<p>130321 rows × 4 columns</p>\n",
              "</div>\n",
              "      <button class=\"colab-df-convert\" onclick=\"convertToInteractive('df-4d11a7d3-3a67-4b1a-ab25-d92a905fabbf')\"\n",
              "              title=\"Convert this dataframe to an interactive table.\"\n",
              "              style=\"display:none;\">\n",
              "        \n",
              "  <svg xmlns=\"http://www.w3.org/2000/svg\" height=\"24px\"viewBox=\"0 0 24 24\"\n",
              "       width=\"24px\">\n",
              "    <path d=\"M0 0h24v24H0V0z\" fill=\"none\"/>\n",
              "    <path d=\"M18.56 5.44l.94 2.06.94-2.06 2.06-.94-2.06-.94-.94-2.06-.94 2.06-2.06.94zm-11 1L8.5 8.5l.94-2.06 2.06-.94-2.06-.94L8.5 2.5l-.94 2.06-2.06.94zm10 10l.94 2.06.94-2.06 2.06-.94-2.06-.94-.94-2.06-.94 2.06-2.06.94z\"/><path d=\"M17.41 7.96l-1.37-1.37c-.4-.4-.92-.59-1.43-.59-.52 0-1.04.2-1.43.59L10.3 9.45l-7.72 7.72c-.78.78-.78 2.05 0 2.83L4 21.41c.39.39.9.59 1.41.59.51 0 1.02-.2 1.41-.59l7.78-7.78 2.81-2.81c.8-.78.8-2.07 0-2.86zM5.41 20L4 18.59l7.72-7.72 1.47 1.35L5.41 20z\"/>\n",
              "  </svg>\n",
              "      </button>\n",
              "      \n",
              "  <style>\n",
              "    .colab-df-container {\n",
              "      display:flex;\n",
              "      flex-wrap:wrap;\n",
              "      gap: 12px;\n",
              "    }\n",
              "\n",
              "    .colab-df-convert {\n",
              "      background-color: #E8F0FE;\n",
              "      border: none;\n",
              "      border-radius: 50%;\n",
              "      cursor: pointer;\n",
              "      display: none;\n",
              "      fill: #1967D2;\n",
              "      height: 32px;\n",
              "      padding: 0 0 0 0;\n",
              "      width: 32px;\n",
              "    }\n",
              "\n",
              "    .colab-df-convert:hover {\n",
              "      background-color: #E2EBFA;\n",
              "      box-shadow: 0px 1px 2px rgba(60, 64, 67, 0.3), 0px 1px 3px 1px rgba(60, 64, 67, 0.15);\n",
              "      fill: #174EA6;\n",
              "    }\n",
              "\n",
              "    [theme=dark] .colab-df-convert {\n",
              "      background-color: #3B4455;\n",
              "      fill: #D2E3FC;\n",
              "    }\n",
              "\n",
              "    [theme=dark] .colab-df-convert:hover {\n",
              "      background-color: #434B5C;\n",
              "      box-shadow: 0px 1px 3px 1px rgba(0, 0, 0, 0.15);\n",
              "      filter: drop-shadow(0px 1px 2px rgba(0, 0, 0, 0.3));\n",
              "      fill: #FFFFFF;\n",
              "    }\n",
              "  </style>\n",
              "\n",
              "      <script>\n",
              "        const buttonEl =\n",
              "          document.querySelector('#df-4d11a7d3-3a67-4b1a-ab25-d92a905fabbf button.colab-df-convert');\n",
              "        buttonEl.style.display =\n",
              "          google.colab.kernel.accessAllowed ? 'block' : 'none';\n",
              "\n",
              "        async function convertToInteractive(key) {\n",
              "          const element = document.querySelector('#df-4d11a7d3-3a67-4b1a-ab25-d92a905fabbf');\n",
              "          const dataTable =\n",
              "            await google.colab.kernel.invokeFunction('convertToInteractive',\n",
              "                                                     [key], {});\n",
              "          if (!dataTable) return;\n",
              "\n",
              "          const docLinkHtml = 'Like what you see? Visit the ' +\n",
              "            '<a target=\"_blank\" href=https://colab.research.google.com/notebooks/data_table.ipynb>data table notebook</a>'\n",
              "            + ' to learn more about interactive tables.';\n",
              "          element.innerHTML = '';\n",
              "          dataTable['output_type'] = 'display_data';\n",
              "          await google.colab.output.renderOutput(dataTable, element);\n",
              "          const docLink = document.createElement('div');\n",
              "          docLink.innerHTML = docLinkHtml;\n",
              "          element.appendChild(docLink);\n",
              "        }\n",
              "      </script>\n",
              "    </div>\n",
              "  </div>\n",
              "  "
            ]
          },
          "metadata": {},
          "execution_count": 3
        }
      ]
    },
    {
      "cell_type": "code",
      "source": [
        "x=data.drop(data.columns[:2],axis=1)"
      ],
      "metadata": {
        "id": "PmBDV5asExxy"
      },
      "execution_count": 4,
      "outputs": []
    },
    {
      "cell_type": "code",
      "source": [
        "y=data.drop(data.columns[2:],axis=1)"
      ],
      "metadata": {
        "id": "NE20o8U_E2It"
      },
      "execution_count": 5,
      "outputs": []
    },
    {
      "cell_type": "code",
      "source": [
        "x"
      ],
      "metadata": {
        "colab": {
          "base_uri": "https://localhost:8080/",
          "height": 424
        },
        "id": "_K9sxsa0E8up",
        "outputId": "8c46aa70-f609-4d76-9d75-8d9b044e5be8"
      },
      "execution_count": 6,
      "outputs": [
        {
          "output_type": "execute_result",
          "data": {
            "text/plain": [
              "               Px         Py\n",
              "0      -41.270647   1.701003\n",
              "1       -3.778171   9.784744\n",
              "2        9.676867  45.701238\n",
              "3      -13.276034  76.429027\n",
              "4      -51.534081  73.717123\n",
              "...           ...        ...\n",
              "130316 -51.534081 -73.717123\n",
              "130317 -13.276034 -76.429027\n",
              "130318   9.676867 -45.701238\n",
              "130319  -3.778171  -9.784744\n",
              "130320 -41.270647  -1.701003\n",
              "\n",
              "[130321 rows x 2 columns]"
            ],
            "text/html": [
              "\n",
              "  <div id=\"df-48fbd41b-47e4-487c-bcf2-d2e9538cddc0\">\n",
              "    <div class=\"colab-df-container\">\n",
              "      <div>\n",
              "<style scoped>\n",
              "    .dataframe tbody tr th:only-of-type {\n",
              "        vertical-align: middle;\n",
              "    }\n",
              "\n",
              "    .dataframe tbody tr th {\n",
              "        vertical-align: top;\n",
              "    }\n",
              "\n",
              "    .dataframe thead th {\n",
              "        text-align: right;\n",
              "    }\n",
              "</style>\n",
              "<table border=\"1\" class=\"dataframe\">\n",
              "  <thead>\n",
              "    <tr style=\"text-align: right;\">\n",
              "      <th></th>\n",
              "      <th>Px</th>\n",
              "      <th>Py</th>\n",
              "    </tr>\n",
              "  </thead>\n",
              "  <tbody>\n",
              "    <tr>\n",
              "      <th>0</th>\n",
              "      <td>-41.270647</td>\n",
              "      <td>1.701003</td>\n",
              "    </tr>\n",
              "    <tr>\n",
              "      <th>1</th>\n",
              "      <td>-3.778171</td>\n",
              "      <td>9.784744</td>\n",
              "    </tr>\n",
              "    <tr>\n",
              "      <th>2</th>\n",
              "      <td>9.676867</td>\n",
              "      <td>45.701238</td>\n",
              "    </tr>\n",
              "    <tr>\n",
              "      <th>3</th>\n",
              "      <td>-13.276034</td>\n",
              "      <td>76.429027</td>\n",
              "    </tr>\n",
              "    <tr>\n",
              "      <th>4</th>\n",
              "      <td>-51.534081</td>\n",
              "      <td>73.717123</td>\n",
              "    </tr>\n",
              "    <tr>\n",
              "      <th>...</th>\n",
              "      <td>...</td>\n",
              "      <td>...</td>\n",
              "    </tr>\n",
              "    <tr>\n",
              "      <th>130316</th>\n",
              "      <td>-51.534081</td>\n",
              "      <td>-73.717123</td>\n",
              "    </tr>\n",
              "    <tr>\n",
              "      <th>130317</th>\n",
              "      <td>-13.276034</td>\n",
              "      <td>-76.429027</td>\n",
              "    </tr>\n",
              "    <tr>\n",
              "      <th>130318</th>\n",
              "      <td>9.676867</td>\n",
              "      <td>-45.701238</td>\n",
              "    </tr>\n",
              "    <tr>\n",
              "      <th>130319</th>\n",
              "      <td>-3.778171</td>\n",
              "      <td>-9.784744</td>\n",
              "    </tr>\n",
              "    <tr>\n",
              "      <th>130320</th>\n",
              "      <td>-41.270647</td>\n",
              "      <td>-1.701003</td>\n",
              "    </tr>\n",
              "  </tbody>\n",
              "</table>\n",
              "<p>130321 rows × 2 columns</p>\n",
              "</div>\n",
              "      <button class=\"colab-df-convert\" onclick=\"convertToInteractive('df-48fbd41b-47e4-487c-bcf2-d2e9538cddc0')\"\n",
              "              title=\"Convert this dataframe to an interactive table.\"\n",
              "              style=\"display:none;\">\n",
              "        \n",
              "  <svg xmlns=\"http://www.w3.org/2000/svg\" height=\"24px\"viewBox=\"0 0 24 24\"\n",
              "       width=\"24px\">\n",
              "    <path d=\"M0 0h24v24H0V0z\" fill=\"none\"/>\n",
              "    <path d=\"M18.56 5.44l.94 2.06.94-2.06 2.06-.94-2.06-.94-.94-2.06-.94 2.06-2.06.94zm-11 1L8.5 8.5l.94-2.06 2.06-.94-2.06-.94L8.5 2.5l-.94 2.06-2.06.94zm10 10l.94 2.06.94-2.06 2.06-.94-2.06-.94-.94-2.06-.94 2.06-2.06.94z\"/><path d=\"M17.41 7.96l-1.37-1.37c-.4-.4-.92-.59-1.43-.59-.52 0-1.04.2-1.43.59L10.3 9.45l-7.72 7.72c-.78.78-.78 2.05 0 2.83L4 21.41c.39.39.9.59 1.41.59.51 0 1.02-.2 1.41-.59l7.78-7.78 2.81-2.81c.8-.78.8-2.07 0-2.86zM5.41 20L4 18.59l7.72-7.72 1.47 1.35L5.41 20z\"/>\n",
              "  </svg>\n",
              "      </button>\n",
              "      \n",
              "  <style>\n",
              "    .colab-df-container {\n",
              "      display:flex;\n",
              "      flex-wrap:wrap;\n",
              "      gap: 12px;\n",
              "    }\n",
              "\n",
              "    .colab-df-convert {\n",
              "      background-color: #E8F0FE;\n",
              "      border: none;\n",
              "      border-radius: 50%;\n",
              "      cursor: pointer;\n",
              "      display: none;\n",
              "      fill: #1967D2;\n",
              "      height: 32px;\n",
              "      padding: 0 0 0 0;\n",
              "      width: 32px;\n",
              "    }\n",
              "\n",
              "    .colab-df-convert:hover {\n",
              "      background-color: #E2EBFA;\n",
              "      box-shadow: 0px 1px 2px rgba(60, 64, 67, 0.3), 0px 1px 3px 1px rgba(60, 64, 67, 0.15);\n",
              "      fill: #174EA6;\n",
              "    }\n",
              "\n",
              "    [theme=dark] .colab-df-convert {\n",
              "      background-color: #3B4455;\n",
              "      fill: #D2E3FC;\n",
              "    }\n",
              "\n",
              "    [theme=dark] .colab-df-convert:hover {\n",
              "      background-color: #434B5C;\n",
              "      box-shadow: 0px 1px 3px 1px rgba(0, 0, 0, 0.15);\n",
              "      filter: drop-shadow(0px 1px 2px rgba(0, 0, 0, 0.3));\n",
              "      fill: #FFFFFF;\n",
              "    }\n",
              "  </style>\n",
              "\n",
              "      <script>\n",
              "        const buttonEl =\n",
              "          document.querySelector('#df-48fbd41b-47e4-487c-bcf2-d2e9538cddc0 button.colab-df-convert');\n",
              "        buttonEl.style.display =\n",
              "          google.colab.kernel.accessAllowed ? 'block' : 'none';\n",
              "\n",
              "        async function convertToInteractive(key) {\n",
              "          const element = document.querySelector('#df-48fbd41b-47e4-487c-bcf2-d2e9538cddc0');\n",
              "          const dataTable =\n",
              "            await google.colab.kernel.invokeFunction('convertToInteractive',\n",
              "                                                     [key], {});\n",
              "          if (!dataTable) return;\n",
              "\n",
              "          const docLinkHtml = 'Like what you see? Visit the ' +\n",
              "            '<a target=\"_blank\" href=https://colab.research.google.com/notebooks/data_table.ipynb>data table notebook</a>'\n",
              "            + ' to learn more about interactive tables.';\n",
              "          element.innerHTML = '';\n",
              "          dataTable['output_type'] = 'display_data';\n",
              "          await google.colab.output.renderOutput(dataTable, element);\n",
              "          const docLink = document.createElement('div');\n",
              "          docLink.innerHTML = docLinkHtml;\n",
              "          element.appendChild(docLink);\n",
              "        }\n",
              "      </script>\n",
              "    </div>\n",
              "  </div>\n",
              "  "
            ]
          },
          "metadata": {},
          "execution_count": 6
        }
      ]
    },
    {
      "cell_type": "code",
      "source": [
        "y"
      ],
      "metadata": {
        "colab": {
          "base_uri": "https://localhost:8080/",
          "height": 424
        },
        "id": "ubQwYirNFWzM",
        "outputId": "7018731c-a450-4fc3-a9ce-62116b6985b5"
      },
      "execution_count": 7,
      "outputs": [
        {
          "output_type": "execute_result",
          "data": {
            "text/plain": [
              "        tt1  tt2\n",
              "0      -180 -180\n",
              "1      -180 -179\n",
              "2      -180 -178\n",
              "3      -180 -177\n",
              "4      -180 -176\n",
              "...     ...  ...\n",
              "130316  180  176\n",
              "130317  180  177\n",
              "130318  180  178\n",
              "130319  180  179\n",
              "130320  180  180\n",
              "\n",
              "[130321 rows x 2 columns]"
            ],
            "text/html": [
              "\n",
              "  <div id=\"df-6fdfc7d5-7da2-4ad6-b995-2b7b19465b21\">\n",
              "    <div class=\"colab-df-container\">\n",
              "      <div>\n",
              "<style scoped>\n",
              "    .dataframe tbody tr th:only-of-type {\n",
              "        vertical-align: middle;\n",
              "    }\n",
              "\n",
              "    .dataframe tbody tr th {\n",
              "        vertical-align: top;\n",
              "    }\n",
              "\n",
              "    .dataframe thead th {\n",
              "        text-align: right;\n",
              "    }\n",
              "</style>\n",
              "<table border=\"1\" class=\"dataframe\">\n",
              "  <thead>\n",
              "    <tr style=\"text-align: right;\">\n",
              "      <th></th>\n",
              "      <th>tt1</th>\n",
              "      <th>tt2</th>\n",
              "    </tr>\n",
              "  </thead>\n",
              "  <tbody>\n",
              "    <tr>\n",
              "      <th>0</th>\n",
              "      <td>-180</td>\n",
              "      <td>-180</td>\n",
              "    </tr>\n",
              "    <tr>\n",
              "      <th>1</th>\n",
              "      <td>-180</td>\n",
              "      <td>-179</td>\n",
              "    </tr>\n",
              "    <tr>\n",
              "      <th>2</th>\n",
              "      <td>-180</td>\n",
              "      <td>-178</td>\n",
              "    </tr>\n",
              "    <tr>\n",
              "      <th>3</th>\n",
              "      <td>-180</td>\n",
              "      <td>-177</td>\n",
              "    </tr>\n",
              "    <tr>\n",
              "      <th>4</th>\n",
              "      <td>-180</td>\n",
              "      <td>-176</td>\n",
              "    </tr>\n",
              "    <tr>\n",
              "      <th>...</th>\n",
              "      <td>...</td>\n",
              "      <td>...</td>\n",
              "    </tr>\n",
              "    <tr>\n",
              "      <th>130316</th>\n",
              "      <td>180</td>\n",
              "      <td>176</td>\n",
              "    </tr>\n",
              "    <tr>\n",
              "      <th>130317</th>\n",
              "      <td>180</td>\n",
              "      <td>177</td>\n",
              "    </tr>\n",
              "    <tr>\n",
              "      <th>130318</th>\n",
              "      <td>180</td>\n",
              "      <td>178</td>\n",
              "    </tr>\n",
              "    <tr>\n",
              "      <th>130319</th>\n",
              "      <td>180</td>\n",
              "      <td>179</td>\n",
              "    </tr>\n",
              "    <tr>\n",
              "      <th>130320</th>\n",
              "      <td>180</td>\n",
              "      <td>180</td>\n",
              "    </tr>\n",
              "  </tbody>\n",
              "</table>\n",
              "<p>130321 rows × 2 columns</p>\n",
              "</div>\n",
              "      <button class=\"colab-df-convert\" onclick=\"convertToInteractive('df-6fdfc7d5-7da2-4ad6-b995-2b7b19465b21')\"\n",
              "              title=\"Convert this dataframe to an interactive table.\"\n",
              "              style=\"display:none;\">\n",
              "        \n",
              "  <svg xmlns=\"http://www.w3.org/2000/svg\" height=\"24px\"viewBox=\"0 0 24 24\"\n",
              "       width=\"24px\">\n",
              "    <path d=\"M0 0h24v24H0V0z\" fill=\"none\"/>\n",
              "    <path d=\"M18.56 5.44l.94 2.06.94-2.06 2.06-.94-2.06-.94-.94-2.06-.94 2.06-2.06.94zm-11 1L8.5 8.5l.94-2.06 2.06-.94-2.06-.94L8.5 2.5l-.94 2.06-2.06.94zm10 10l.94 2.06.94-2.06 2.06-.94-2.06-.94-.94-2.06-.94 2.06-2.06.94z\"/><path d=\"M17.41 7.96l-1.37-1.37c-.4-.4-.92-.59-1.43-.59-.52 0-1.04.2-1.43.59L10.3 9.45l-7.72 7.72c-.78.78-.78 2.05 0 2.83L4 21.41c.39.39.9.59 1.41.59.51 0 1.02-.2 1.41-.59l7.78-7.78 2.81-2.81c.8-.78.8-2.07 0-2.86zM5.41 20L4 18.59l7.72-7.72 1.47 1.35L5.41 20z\"/>\n",
              "  </svg>\n",
              "      </button>\n",
              "      \n",
              "  <style>\n",
              "    .colab-df-container {\n",
              "      display:flex;\n",
              "      flex-wrap:wrap;\n",
              "      gap: 12px;\n",
              "    }\n",
              "\n",
              "    .colab-df-convert {\n",
              "      background-color: #E8F0FE;\n",
              "      border: none;\n",
              "      border-radius: 50%;\n",
              "      cursor: pointer;\n",
              "      display: none;\n",
              "      fill: #1967D2;\n",
              "      height: 32px;\n",
              "      padding: 0 0 0 0;\n",
              "      width: 32px;\n",
              "    }\n",
              "\n",
              "    .colab-df-convert:hover {\n",
              "      background-color: #E2EBFA;\n",
              "      box-shadow: 0px 1px 2px rgba(60, 64, 67, 0.3), 0px 1px 3px 1px rgba(60, 64, 67, 0.15);\n",
              "      fill: #174EA6;\n",
              "    }\n",
              "\n",
              "    [theme=dark] .colab-df-convert {\n",
              "      background-color: #3B4455;\n",
              "      fill: #D2E3FC;\n",
              "    }\n",
              "\n",
              "    [theme=dark] .colab-df-convert:hover {\n",
              "      background-color: #434B5C;\n",
              "      box-shadow: 0px 1px 3px 1px rgba(0, 0, 0, 0.15);\n",
              "      filter: drop-shadow(0px 1px 2px rgba(0, 0, 0, 0.3));\n",
              "      fill: #FFFFFF;\n",
              "    }\n",
              "  </style>\n",
              "\n",
              "      <script>\n",
              "        const buttonEl =\n",
              "          document.querySelector('#df-6fdfc7d5-7da2-4ad6-b995-2b7b19465b21 button.colab-df-convert');\n",
              "        buttonEl.style.display =\n",
              "          google.colab.kernel.accessAllowed ? 'block' : 'none';\n",
              "\n",
              "        async function convertToInteractive(key) {\n",
              "          const element = document.querySelector('#df-6fdfc7d5-7da2-4ad6-b995-2b7b19465b21');\n",
              "          const dataTable =\n",
              "            await google.colab.kernel.invokeFunction('convertToInteractive',\n",
              "                                                     [key], {});\n",
              "          if (!dataTable) return;\n",
              "\n",
              "          const docLinkHtml = 'Like what you see? Visit the ' +\n",
              "            '<a target=\"_blank\" href=https://colab.research.google.com/notebooks/data_table.ipynb>data table notebook</a>'\n",
              "            + ' to learn more about interactive tables.';\n",
              "          element.innerHTML = '';\n",
              "          dataTable['output_type'] = 'display_data';\n",
              "          await google.colab.output.renderOutput(dataTable, element);\n",
              "          const docLink = document.createElement('div');\n",
              "          docLink.innerHTML = docLinkHtml;\n",
              "          element.appendChild(docLink);\n",
              "        }\n",
              "      </script>\n",
              "    </div>\n",
              "  </div>\n",
              "  "
            ]
          },
          "metadata": {},
          "execution_count": 7
        }
      ]
    },
    {
      "cell_type": "code",
      "source": [
        "x_train,x_test,y_train,y_test=train_test_split(x,y,test_size=0.25,random_state=10)"
      ],
      "metadata": {
        "id": "7O8FAHp7FXSF"
      },
      "execution_count": 8,
      "outputs": []
    },
    {
      "cell_type": "code",
      "source": [
        "from keras.models import Sequential\n",
        "from keras.layers import Dense,Activation,Dropout \n",
        "model=Sequential()\n",
        "model.add(Dense(512,activation='relu',input_shape=(2,)))\n",
        "model.add(Dense(100,activation='relu'))\n",
        "model.add(Dense(50,activation='relu'))\n",
        "model.add(Dense(2,activation='softmax'))\n",
        "model.summary()"
      ],
      "metadata": {
        "colab": {
          "base_uri": "https://localhost:8080/"
        },
        "id": "i2ah0ujUFymB",
        "outputId": "33f887b7-0bbd-495d-8d15-086727a09874"
      },
      "execution_count": 10,
      "outputs": [
        {
          "output_type": "stream",
          "name": "stdout",
          "text": [
            "Model: \"sequential_1\"\n",
            "_________________________________________________________________\n",
            " Layer (type)                Output Shape              Param #   \n",
            "=================================================================\n",
            " dense_4 (Dense)             (None, 512)               1536      \n",
            "                                                                 \n",
            " dense_5 (Dense)             (None, 100)               51300     \n",
            "                                                                 \n",
            " dense_6 (Dense)             (None, 50)                5050      \n",
            "                                                                 \n",
            " dense_7 (Dense)             (None, 2)                 102       \n",
            "                                                                 \n",
            "=================================================================\n",
            "Total params: 57,988\n",
            "Trainable params: 57,988\n",
            "Non-trainable params: 0\n",
            "_________________________________________________________________\n"
          ]
        }
      ]
    },
    {
      "cell_type": "code",
      "source": [
        "from tensorflow.keras.optimizers import RMSprop\n",
        "from keras.callbacks import EarlyStopping\n",
        "model.compile(loss='mse',optimizer=RMSprop(),metrics=['accuracy'])\n",
        "history = model.fit(x_train,y_train,batch_size = 128,epochs=500,verbose=1,callbacks=[EarlyStopping(monitor='val_loss',patience=20)],validation_data = (x_test, y_test))"
      ],
      "metadata": {
        "colab": {
          "base_uri": "https://localhost:8080/"
        },
        "id": "8m8Fkdj7F6e8",
        "outputId": "7f22a308-50d4-4328-c815-0eb24b828444"
      },
      "execution_count": 13,
      "outputs": [
        {
          "output_type": "stream",
          "name": "stdout",
          "text": [
            "Epoch 1/500\n",
            "764/764 [==============================] - 6s 6ms/step - loss: 10859.5518 - accuracy: 0.4983 - val_loss: 10863.4346 - val_accuracy: 0.5008\n",
            "Epoch 2/500\n",
            "764/764 [==============================] - 4s 6ms/step - loss: 10859.2754 - accuracy: 0.4994 - val_loss: 10863.9463 - val_accuracy: 0.5000\n",
            "Epoch 3/500\n",
            "764/764 [==============================] - 4s 6ms/step - loss: 10859.7139 - accuracy: 0.4997 - val_loss: 10863.4072 - val_accuracy: 0.5038\n",
            "Epoch 4/500\n",
            "764/764 [==============================] - 4s 6ms/step - loss: 10859.6104 - accuracy: 0.5004 - val_loss: 10863.3574 - val_accuracy: 0.5035\n",
            "Epoch 5/500\n",
            "764/764 [==============================] - 4s 6ms/step - loss: 10859.7207 - accuracy: 0.4991 - val_loss: 10863.9082 - val_accuracy: 0.5032\n",
            "Epoch 6/500\n",
            "764/764 [==============================] - 4s 6ms/step - loss: 10859.5498 - accuracy: 0.4961 - val_loss: 10864.1748 - val_accuracy: 0.4961\n",
            "Epoch 7/500\n",
            "764/764 [==============================] - 4s 6ms/step - loss: 10859.2637 - accuracy: 0.4993 - val_loss: 10864.2715 - val_accuracy: 0.4965\n",
            "Epoch 8/500\n",
            "764/764 [==============================] - 4s 6ms/step - loss: 10859.1641 - accuracy: 0.4984 - val_loss: 10864.1914 - val_accuracy: 0.4961\n",
            "Epoch 9/500\n",
            "764/764 [==============================] - 4s 6ms/step - loss: 10859.1992 - accuracy: 0.4994 - val_loss: 10864.2549 - val_accuracy: 0.4965\n",
            "Epoch 10/500\n",
            "764/764 [==============================] - 4s 6ms/step - loss: 10859.2471 - accuracy: 0.4993 - val_loss: 10864.2549 - val_accuracy: 0.4965\n",
            "Epoch 11/500\n",
            "764/764 [==============================] - 4s 6ms/step - loss: 10859.2471 - accuracy: 0.4993 - val_loss: 10864.2549 - val_accuracy: 0.4965\n",
            "Epoch 12/500\n",
            "764/764 [==============================] - 4s 6ms/step - loss: 10859.2393 - accuracy: 0.4993 - val_loss: 10864.2549 - val_accuracy: 0.4965\n",
            "Epoch 13/500\n",
            "764/764 [==============================] - 4s 6ms/step - loss: 10859.2471 - accuracy: 0.4993 - val_loss: 10864.2549 - val_accuracy: 0.4965\n",
            "Epoch 14/500\n",
            "764/764 [==============================] - 4s 6ms/step - loss: 10859.2461 - accuracy: 0.4993 - val_loss: 10864.2549 - val_accuracy: 0.4965\n",
            "Epoch 15/500\n",
            "764/764 [==============================] - 4s 6ms/step - loss: 10859.2490 - accuracy: 0.4993 - val_loss: 10864.2549 - val_accuracy: 0.4965\n",
            "Epoch 16/500\n",
            "764/764 [==============================] - 4s 5ms/step - loss: 10859.2588 - accuracy: 0.4993 - val_loss: 10864.2549 - val_accuracy: 0.4965\n",
            "Epoch 17/500\n",
            "764/764 [==============================] - 4s 6ms/step - loss: 10859.2480 - accuracy: 0.4993 - val_loss: 10864.2549 - val_accuracy: 0.4965\n",
            "Epoch 18/500\n",
            "764/764 [==============================] - 4s 6ms/step - loss: 10859.2451 - accuracy: 0.4993 - val_loss: 10864.2549 - val_accuracy: 0.4965\n",
            "Epoch 19/500\n",
            "764/764 [==============================] - 4s 6ms/step - loss: 10859.2402 - accuracy: 0.4993 - val_loss: 10864.2549 - val_accuracy: 0.4965\n",
            "Epoch 20/500\n",
            "764/764 [==============================] - 4s 6ms/step - loss: 10859.2539 - accuracy: 0.4993 - val_loss: 10864.2549 - val_accuracy: 0.4965\n",
            "Epoch 21/500\n",
            "764/764 [==============================] - 4s 6ms/step - loss: 10859.2471 - accuracy: 0.4993 - val_loss: 10864.2549 - val_accuracy: 0.4965\n",
            "Epoch 22/500\n",
            "764/764 [==============================] - 4s 6ms/step - loss: 10859.2412 - accuracy: 0.4993 - val_loss: 10864.2549 - val_accuracy: 0.4965\n",
            "Epoch 23/500\n",
            "764/764 [==============================] - 4s 6ms/step - loss: 10859.2471 - accuracy: 0.4993 - val_loss: 10864.2549 - val_accuracy: 0.4965\n",
            "Epoch 24/500\n",
            "764/764 [==============================] - 4s 6ms/step - loss: 10859.2471 - accuracy: 0.4993 - val_loss: 10864.2549 - val_accuracy: 0.4965\n"
          ]
        }
      ]
    },
    {
      "cell_type": "code",
      "source": [
        "score=model.evaluate(x_test,y_test,verbose=0)\n",
        "print('Sai số: ',score[0])\n",
        "print('Độ chính xác: ',score[1])\n",
        "plt.plot(history.history['accuracy'])\n",
        "plt.plot(history.history['val_accuracy'])\n",
        "plt.title('Model accuracy')\n",
        "plt.ylabel('accuracy')\n",
        "plt.xlabel('Epochs')\n",
        "plt.legend(['train','Validation'])\n",
        "plt.show()"
      ],
      "metadata": {
        "colab": {
          "base_uri": "https://localhost:8080/",
          "height": 329
        },
        "id": "MXP-RC4UGBNs",
        "outputId": "afd069ef-78d2-44f8-cb69-88073a0d9608"
      },
      "execution_count": 14,
      "outputs": [
        {
          "output_type": "stream",
          "name": "stdout",
          "text": [
            "Sai số:  10864.2509765625\n",
            "Độ chính xác:  0.49654707312583923\n"
          ]
        },
        {
          "output_type": "display_data",
          "data": {
            "text/plain": [
              "<Figure size 432x288 with 1 Axes>"
            ],
            "image/png": "[encoded data removed]"
          },
          "metadata": {
            "needs_background": "light"
          }
        }
      ]
    },
    {
      "cell_type": "code",
      "source": [
        "model.save('robot2.h5')"
      ],
      "metadata": {
        "id": "cpdFQeB2HuH3"
      },
      "execution_count": 15,
      "outputs": []
    },
    {
      "cell_type": "code",
      "source": [
        "from tensorflow.keras.models import load_model\n",
        "model1=load_model('robot2b.h5')"
      ],
      "metadata": {
        "id": "JFW9xSlLSIeo",
        "colab": {
          "base_uri": "https://localhost:8080/",
          "height": 328
        },
        "outputId": "16482ee3-df27-4ae9-9086-e77aee0e222f"
      },
      "execution_count": 19,
      "outputs": [
        {
          "output_type": "error",
          "ename": "OSError",
          "evalue": "ignored",
          "traceback": [
            "\u001b[0;31m---------------------------------------------------------------------------\u001b[0m",
            "\u001b[0;31mOSError\u001b[0m                                   Traceback (most recent call last)",
            "\u001b[0;32m<ipython-input-19-2e83e7d7ba47>\u001b[0m in \u001b[0;36m<module>\u001b[0;34m()\u001b[0m\n\u001b[1;32m      1\u001b[0m \u001b[0;32mfrom\u001b[0m \u001b[0mtensorflow\u001b[0m\u001b[0;34m.\u001b[0m\u001b[0mkeras\u001b[0m\u001b[0;34m.\u001b[0m\u001b[0mmodels\u001b[0m \u001b[0;32mimport\u001b[0m \u001b[0mload_model\u001b[0m\u001b[0;34m\u001b[0m\u001b[0;34m\u001b[0m\u001b[0m\n\u001b[0;32m----> 2\u001b[0;31m \u001b[0mmodel1\u001b[0m\u001b[0;34m=\u001b[0m\u001b[0mload_model\u001b[0m\u001b[0;34m(\u001b[0m\u001b[0;34m'robot2b.h5'\u001b[0m\u001b[0;34m)\u001b[0m\u001b[0;34m\u001b[0m\u001b[0;34m\u001b[0m\u001b[0m\n\u001b[0m",
            "\u001b[0;32m/usr/local/lib/python3.7/dist-packages/keras/utils/traceback_utils.py\u001b[0m in \u001b[0;36merror_handler\u001b[0;34m(*args, **kwargs)\u001b[0m\n\u001b[1;32m     65\u001b[0m     \u001b[0;32mexcept\u001b[0m \u001b[0mException\u001b[0m \u001b[0;32mas\u001b[0m \u001b[0me\u001b[0m\u001b[0;34m:\u001b[0m  \u001b[0;31m# pylint: disable=broad-except\u001b[0m\u001b[0;34m\u001b[0m\u001b[0;34m\u001b[0m\u001b[0m\n\u001b[1;32m     66\u001b[0m       \u001b[0mfiltered_tb\u001b[0m \u001b[0;34m=\u001b[0m \u001b[0m_process_traceback_frames\u001b[0m\u001b[0;34m(\u001b[0m\u001b[0me\u001b[0m\u001b[0;34m.\u001b[0m\u001b[0m__traceback__\u001b[0m\u001b[0;34m)\u001b[0m\u001b[0;34m\u001b[0m\u001b[0;34m\u001b[0m\u001b[0m\n\u001b[0;32m---> 67\u001b[0;31m       \u001b[0;32mraise\u001b[0m \u001b[0me\u001b[0m\u001b[0;34m.\u001b[0m\u001b[0mwith_traceback\u001b[0m\u001b[0;34m(\u001b[0m\u001b[0mfiltered_tb\u001b[0m\u001b[0;34m)\u001b[0m \u001b[0;32mfrom\u001b[0m \u001b[0;32mNone\u001b[0m\u001b[0;34m\u001b[0m\u001b[0;34m\u001b[0m\u001b[0m\n\u001b[0m\u001b[1;32m     68\u001b[0m     \u001b[0;32mfinally\u001b[0m\u001b[0;34m:\u001b[0m\u001b[0;34m\u001b[0m\u001b[0;34m\u001b[0m\u001b[0m\n\u001b[1;32m     69\u001b[0m       \u001b[0;32mdel\u001b[0m \u001b[0mfiltered_tb\u001b[0m\u001b[0;34m\u001b[0m\u001b[0;34m\u001b[0m\u001b[0m\n",
            "\u001b[0;32m/usr/local/lib/python3.7/dist-packages/keras/saving/save.py\u001b[0m in \u001b[0;36mload_model\u001b[0;34m(filepath, custom_objects, compile, options)\u001b[0m\n\u001b[1;32m    202\u001b[0m         \u001b[0;32mif\u001b[0m \u001b[0misinstance\u001b[0m\u001b[0;34m(\u001b[0m\u001b[0mfilepath_str\u001b[0m\u001b[0;34m,\u001b[0m \u001b[0mstr\u001b[0m\u001b[0;34m)\u001b[0m\u001b[0;34m:\u001b[0m\u001b[0;34m\u001b[0m\u001b[0;34m\u001b[0m\u001b[0m\n\u001b[1;32m    203\u001b[0m           \u001b[0;32mif\u001b[0m \u001b[0;32mnot\u001b[0m \u001b[0mtf\u001b[0m\u001b[0;34m.\u001b[0m\u001b[0mio\u001b[0m\u001b[0;34m.\u001b[0m\u001b[0mgfile\u001b[0m\u001b[0;34m.\u001b[0m\u001b[0mexists\u001b[0m\u001b[0;34m(\u001b[0m\u001b[0mfilepath_str\u001b[0m\u001b[0;34m)\u001b[0m\u001b[0;34m:\u001b[0m\u001b[0;34m\u001b[0m\u001b[0;34m\u001b[0m\u001b[0m\n\u001b[0;32m--> 204\u001b[0;31m             \u001b[0;32mraise\u001b[0m \u001b[0mIOError\u001b[0m\u001b[0;34m(\u001b[0m\u001b[0;34mf'No file or directory found at {filepath_str}'\u001b[0m\u001b[0;34m)\u001b[0m\u001b[0;34m\u001b[0m\u001b[0;34m\u001b[0m\u001b[0m\n\u001b[0m\u001b[1;32m    205\u001b[0m \u001b[0;34m\u001b[0m\u001b[0m\n\u001b[1;32m    206\u001b[0m           \u001b[0;32mif\u001b[0m \u001b[0mtf\u001b[0m\u001b[0;34m.\u001b[0m\u001b[0mio\u001b[0m\u001b[0;34m.\u001b[0m\u001b[0mgfile\u001b[0m\u001b[0;34m.\u001b[0m\u001b[0misdir\u001b[0m\u001b[0;34m(\u001b[0m\u001b[0mfilepath_str\u001b[0m\u001b[0;34m)\u001b[0m\u001b[0;34m:\u001b[0m\u001b[0;34m\u001b[0m\u001b[0;34m\u001b[0m\u001b[0m\n",
            "\u001b[0;31mOSError\u001b[0m: No file or directory found at robot2b.h5"
          ]
        }
      ]
    },
    {
      "cell_type": "code",
      "source": [
        "model.evaluate (x_train, y_train)"
      ],
      "metadata": {
        "colab": {
          "base_uri": "https://localhost:8080/"
        },
        "id": "_9jPrb2MSLhC",
        "outputId": "c2d8c9f5-f01f-4aca-b828-1ce00d868d60"
      },
      "execution_count": 17,
      "outputs": [
        {
          "output_type": "stream",
          "name": "stdout",
          "text": [
            "3055/3055 [==============================] - 5s 2ms/step - loss: 10859.2402 - accuracy: 0.4993\n"
          ]
        },
        {
          "output_type": "execute_result",
          "data": {
            "text/plain": [
              "[10859.240234375, 0.49930426478385925]"
            ]
          },
          "metadata": {},
          "execution_count": 17
        }
      ]
    },
    {
      "cell_type": "code",
      "source": [
        "model.evaluate (x_train, y_train)"
      ],
      "metadata": {
        "id": "hAVkuprCSaTx",
        "colab": {
          "base_uri": "https://localhost:8080/"
        },
        "outputId": "b2d2fd5d-c7cd-4694-f813-27f3bf7c389c"
      },
      "execution_count": 18,
      "outputs": [
        {
          "output_type": "stream",
          "name": "stdout",
          "text": [
            "3055/3055 [==============================] - 5s 2ms/step - loss: 10859.2402 - accuracy: 0.4993\n"
          ]
        },
        {
          "output_type": "execute_result",
          "data": {
            "text/plain": [
              "[10859.240234375, 0.49930426478385925]"
            ]
          },
          "metadata": {},
          "execution_count": 18
        }
      ]
    }
  ]
}